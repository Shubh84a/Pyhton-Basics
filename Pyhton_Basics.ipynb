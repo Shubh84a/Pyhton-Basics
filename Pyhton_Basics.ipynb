{
  "cells": [
    {
      "cell_type": "markdown",
      "metadata": {
        "id": "AzOLi2LV1Ys5"
      },
      "source": []
    },
    {
      "cell_type": "markdown",
      "metadata": {
        "id": "ApFW1hTWs3DT"
      },
      "source": [
        "Q1 :- What is Python, and why is it popular?\n",
        "\n",
        "Ans :- Python is a programing language this is easy to learn and use and also it have versitility, Simplicity and good ecosystem of libraries."
      ]
    },
    {
      "cell_type": "markdown",
      "metadata": {
        "id": "ZF3JXb-Kyicj"
      },
      "source": [
        "Q2 :-What ia an interpreter in python?\n",
        "\n",
        "Ans :-An interpreter in python is a program that reads your python code line by line and immediately runs it.\n",
        "Ex :-The interpreter reads Print(\"Hello World\") understand it, and instantly makes your computer displays Hello World."
      ]
    },
    {
      "cell_type": "markdown",
      "metadata": {
        "id": "R4wvHXhy1dj_"
      },
      "source": [
        "Q3 :-What are pre-defined keywords in python?\n",
        "\n",
        "Ans :-A pre defined keyword in python is a word that python has already reserved because it has a special meaning in the language.\n",
        "You can not use these words as name for your variable, functions or anything else because pyhton already uses them to understand your codes structure."
      ]
    },
    {
      "cell_type": "markdown",
      "metadata": {
        "id": "XRRGp-Oz3UoW"
      },
      "source": [
        "Q4 :-Can Keywords be useed as variable names?\n",
        "\n",
        "Ans :-No because keyword are reserved by python because they have special roles in the languages grammar. If you try to use keyword as a variable name python will shows a SyntaxError.\n",
        "Ex :-If = 10"
      ]
    },
    {
      "cell_type": "markdown",
      "metadata": {
        "id": "o6a5gqD24fxQ"
      },
      "source": [
        "Q5 :-What is Mutability in Python?\n",
        "\n",
        "Ans :-You can change their contents without creating a new objects.\n",
        "Ex :-num = [1,2,3]\n",
        "num[0] = 01\n",
        "print(num)\n",
        " return [01,2,3]"
      ]
    },
    {
      "cell_type": "markdown",
      "metadata": {
        "id": "r-1wNaIX6gKv"
      },
      "source": [
        "Q6 :-Why are list mutable, but tuples are immutable?\n",
        "\n",
        "Ans :-List can change it after you make it. Add,remove or update item it is like a white board (earse and rewrite)\n",
        "\n",
        "bu tuple can not change it after you make it, it stay the same forever. its is like a strong carving (can't change once made)\n",
        "\n",
        "python made lists changeable because they are data that updated often, Tuples stay fixed so they are safer,faster, and can be used where unchanging data is needed."
      ]
    },
    {
      "cell_type": "markdown",
      "metadata": {
        "id": "FrEP_Y96A2BD"
      },
      "source": [
        "Q7 :-What is difference between \"==\" and \"is\" operators in python?\n",
        "\n",
        "Ans :-\"==\" Check if two values are equal in content.\n",
        "\"is\" check if two variables points to the exact same object in memory."
      ]
    },
    {
      "cell_type": "markdown",
      "metadata": {
        "id": "QVmSuiYGCIqD"
      },
      "source": [
        "Q8 :-What are logical Operators in python?\n",
        "\n",
        "Ans :-Logical operator in python help you combine or modify boolean conditions to make decision.\n",
        "\n",
        "1> and :-True only if both conditions are True.\n",
        "2> or :-True if at least one conditions is True.\n",
        "3> not :-Flips True to False and False to True."
      ]
    },
    {
      "cell_type": "markdown",
      "metadata": {
        "id": "ndSkYLuYHNx1"
      },
      "source": [
        "Q9 :- What is type casting in python?\n",
        "\n",
        "Ans :-Type casting in python means changing the type of a value into another type.\n",
        "Ex :-Turning a number into text -> str(5) it gives \"5\"."
      ]
    },
    {
      "cell_type": "markdown",
      "metadata": {
        "id": "Flou5sEjEVJh"
      },
      "source": [
        "Q10 :-What is the difference between implicit and explicite type casting?\n",
        "\n",
        "Ans :-In Impicite type casting Python does it automatically and there is no riskof data loss or No syntax happens during operations\n",
        "Ex :-5+2.0 = 7.0 (int automatically becomes float).\n",
        "\n",
        "In Expicite type casting the programmer do it manually and you specifically need to change the type or use functions like int(), floot(), str()\n",
        "Ex :-int(\"10\") = 10.\n"
      ]
    },
    {
      "cell_type": "markdown",
      "metadata": {
        "id": "Cf9SGlMIHid3"
      },
      "source": [
        "Q11 :-What is the purposse of conditional statement in python?\n",
        "\n",
        "Ans :-The purpose of the conditional statements in the python is to let your program make decision and run different code depending on a conditions.\n",
        "\n",
        "in other way, is this True? If yes, do this. Otherwish, do something else.\n",
        "\n",
        "Ex :-\n",
        "age = 32\n",
        "if age>=18:\n",
        "  print(\"You are eligible to give Vote\")\n",
        "else:\n",
        "  print(\"You are not eligible\")"
      ]
    },
    {
      "cell_type": "markdown",
      "metadata": {
        "id": "p-eoyf3uJbVN"
      },
      "source": [
        "Q12 :-How does the elif statement works?\n",
        "\n",
        "Ans :-The elif statement short for \"else if\", is used in conjunction with an if statement to evaluate multiple conditions sequentlally. it provides a way to check for alternative conditions if the preceding IF or ELIF conditions are found to be False. eith the help of If Elif we can give many conditions in one program"
      ]
    },
    {
      "cell_type": "markdown",
      "metadata": {
        "id": "51PeRFsZMjC0"
      },
      "source": [
        "Q13 :-What is the difference between for and while loops?\n",
        "\n",
        "Ans :-For :-\n",
        "1> Runs a set number of times or over a list/sequence.\n",
        "2> You know in advance how many times it should run.:\n",
        "3> Good when you know how many times to loop.\n",
        "Ex :- For i range(5):\n",
        "        print(i)\n",
        "\n",
        "While loop :-\n",
        "1> Run as long as a condition is True.\n",
        "2> You don't always know how may times it will run, it depend on the conditions.\n",
        "3> Good when you loop until somthing happens.\n",
        "Ex :-count = 0\n",
        "     While count < 5:\n",
        "      print(count)\n",
        "      count += 1"
      ]
    },
    {
      "cell_type": "markdown",
      "metadata": {
        "id": "XzRrOEivQOdd"
      },
      "source": [
        "Q14 :-Describe a scenario where a while loop is more suitable than a for loop.\n",
        "\n",
        "Ans :- A while loop is better when you don't know in advance how many times you'll loop. building a program that ask the user to gusse a secret number until they get it right.\n",
        "\n",
        "1> You don't know how many guesses they will take.\n",
        "2> The loop needs sto run until correct guess happen, could be 1 time or could be 100 times.\n",
        "\n"
      ]
    },
    {
      "cell_type": "code",
      "execution_count": null,
      "metadata": {
        "colab": {
          "base_uri": "https://localhost:8080/"
        },
        "id": "plRE2gD5cTBm",
        "outputId": "0a6bfb26-516e-4257-a64f-4f8ede32466f"
      },
      "outputs": [
        {
          "name": "stdout",
          "output_type": "stream",
          "text": [
            "Guess the secret number: 4\n",
            "Wrong, Please try again\n",
            "Congratulation You got it\n",
            "Guess the secret number: 88\n",
            "Wrong, Please try again\n",
            "Congratulation You got it\n",
            "Guess the secret number: 7\n",
            "Congratulation You got it\n"
          ]
        }
      ],
      "source": [
        "number = 7\n",
        "guess = None\n",
        "\n",
        "while guess != number:\n",
        "  guess = int(input(\"Guess the secret number: \"))\n",
        "  if guess != number:\n",
        "    print(\"Wrong, Please try again\")\n",
        "\n",
        "  print(\"Congratulation You got it\")"
      ]
    },
    {
      "cell_type": "markdown",
      "metadata": {
        "id": "tOYwcOnIdgOI"
      },
      "source": [
        "PRACTICAL QUESTIONS"
      ]
    },
    {
      "cell_type": "code",
      "execution_count": null,
      "metadata": {
        "colab": {
          "base_uri": "https://localhost:8080/"
        },
        "id": "l5YtMqx0eVYj",
        "outputId": "fae47420-293e-4a87-8409-5c0979e4a2a4"
      },
      "outputs": [
        {
          "name": "stdout",
          "output_type": "stream",
          "text": [
            "Hello World\n"
          ]
        }
      ],
      "source": [
        "# Ans1 :-\n",
        "print (\"Hello World\")"
      ]
    },
    {
      "cell_type": "code",
      "execution_count": 6,
      "metadata": {
        "colab": {
          "base_uri": "https://localhost:8080/"
        },
        "id": "tGLXYc7le6QT",
        "outputId": "3172fde0-f8ad-4296-ef4f-19f8ecc30bd6"
      },
      "outputs": [
        {
          "name": "stdout",
          "output_type": "stream",
          "text": [
            "My Name is Shubham Chaurasia\n",
            "i am 24 year old\n"
          ]
        }
      ],
      "source": [
        "# Ans 2 :-\n",
        "name = \"Shubham Chaurasia\"\n",
        "age = 24\n",
        "\n",
        "print (\"My Name is\", name)\n",
        "print (\"i am\",age,\"year old\")"
      ]
    },
    {
      "cell_type": "code",
      "execution_count": 7,
      "metadata": {
        "colab": {
          "base_uri": "https://localhost:8080/"
        },
        "id": "cUT7JKRelYPq",
        "outputId": "7825613c-286b-4b38-9ffd-8fd0eba65181"
      },
      "outputs": [
        {
          "name": "stdout",
          "output_type": "stream",
          "text": [
            "['False', 'None', 'True', 'and', 'as', 'assert', 'async', 'await', 'break', 'class', 'continue', 'def', 'del', 'elif', 'else', 'except', 'finally', 'for', 'from', 'global', 'if', 'import', 'in', 'is', 'lambda', 'nonlocal', 'not', 'or', 'pass', 'raise', 'return', 'try', 'while', 'with', 'yield']\n"
          ]
        }
      ],
      "source": [
        "# Ans 3 :-\n",
        "import keyword\n",
        "print (keyword.kwlist)"
      ]
    },
    {
      "cell_type": "code",
      "execution_count": 12,
      "metadata": {
        "colab": {
          "base_uri": "https://localhost:8080/"
        },
        "id": "7wCGQ0FvoKwx",
        "outputId": "1b9a756b-99a3-4708-cb1c-5a868c3babd6"
      },
      "outputs": [
        {
          "name": "stdout",
          "output_type": "stream",
          "text": [
            "Enter a word:True\n",
            "Yes, it's a python keyword.\n"
          ]
        }
      ],
      "source": [
        "# Ans 4 :-\n",
        "import keyword\n",
        "\n",
        "word = input(\"Enter a word:\")\n",
        "if keyword.iskeyword(word):\n",
        "  print(\"Yes, it's a python keyword.\")\n",
        "else:\n",
        "  print(\"No, this is not a python keyword\")"
      ]
    },
    {
      "cell_type": "code",
      "execution_count": 13,
      "metadata": {
        "colab": {
          "base_uri": "https://localhost:8080/"
        },
        "id": "MPsWx01lttXi",
        "outputId": "1b5e45eb-603c-4a92-eb04-568137a3b6e3"
      },
      "outputs": [
        {
          "name": "stdout",
          "output_type": "stream",
          "text": [
            "[100, 2, 3]\n"
          ]
        }
      ],
      "source": [
        "# Ans 5 :-\n",
        "my_list = [1, 2, 3]\n",
        "my_list[0] = 100\n",
        "print(my_list)"
      ]
    },
    {
      "cell_type": "code",
      "execution_count": null,
      "metadata": {
        "id": "96egjM85ufmu"
      },
      "outputs": [],
      "source": [
        "my_tuple = (1, 2, 3)\n",
        "my_tuple[0] = 100\n",
        "print(my_tuple) #----> its shows error because in tuple you can't change its items."
      ]
    },
    {
      "cell_type": "code",
      "execution_count": null,
      "metadata": {
        "id": "oarK3aQKvEQl"
      },
      "outputs": [],
      "source": [
        "# Ans 6 :-\n",
        "\n",
        "def test(a, b):\n",
        "    a += 5         # int - immutable\n",
        "    b[0] = 99      # list - mutable\n",
        "    print(\"Inside:\", a, b)\n",
        "\n",
        "x = 10\n",
        "y = [1, 2, 3]\n",
        "\n",
        "print(\"Before:\", x, y)\n",
        "test(x, y)\n",
        "print(\"After: \", x, y)"
      ]
    },
    {
      "cell_type": "code",
      "execution_count": 16,
      "metadata": {
        "colab": {
          "base_uri": "https://localhost:8080/"
        },
        "id": "HN8oLkNGx4Ox",
        "outputId": "4e402bda-18e6-460a-a75a-09b495845247"
      },
      "outputs": [
        {
          "name": "stdout",
          "output_type": "stream",
          "text": [
            "Enter first number: 45\n",
            "Enter second number: 5\n",
            "Add: 50.0\n",
            "Sub: 40.0\n",
            "Mul: 225.0\n",
            "Div: 9.0\n"
          ]
        }
      ],
      "source": [
        "# Ans 7 :-\n",
        "a = float(input(\"Enter first number: \"))\n",
        "b = float(input(\"Enter second number: \"))\n",
        "\n",
        "print(\"Add:\", a + b)\n",
        "print(\"Sub:\", a - b)\n",
        "print(\"Mul:\", a * b)\n",
        "print(\"Div:\", a / b)"
      ]
    },
    {
      "cell_type": "code",
      "execution_count": 22,
      "metadata": {
        "colab": {
          "base_uri": "https://localhost:8080/"
        },
        "id": "KPTCfKaAyoTG",
        "outputId": "09182d77-dad6-4413-d6d7-f9de278d1bbc"
      },
      "outputs": [
        {
          "name": "stdout",
          "output_type": "stream",
          "text": [
            "Enter a number: 444\n",
            "Number out of range (0 to 100)\n",
            "Number is not equal to 5\n"
          ]
        }
      ],
      "source": [
        "# Ans 8 :-\n",
        "a = int(input(\"Enter a number: \"))\n",
        "if a > 0 and a < 10:\n",
        "  print(\"Number between 1 and 9\")\n",
        "if a < 0 or a > 100:\n",
        "  print(\"Number out of range (0 to 100)\")\n",
        "if not a == 5:\n",
        "  print (\"Number is not equal to 5\")"
      ]
    },
    {
      "cell_type": "code",
      "execution_count": 26,
      "metadata": {
        "colab": {
          "base_uri": "https://localhost:8080/"
        },
        "id": "0LoVwMIK2DCy",
        "outputId": "950d2e25-b32e-401e-fa69-e170f997dad9"
      },
      "outputs": [
        {
          "name": "stdout",
          "output_type": "stream",
          "text": [
            "Enter number value99\n",
            "As int 99\n",
            "As float 99.0\n",
            "As bool True\n"
          ]
        }
      ],
      "source": [
        "# Ans 9 :-\n",
        "a = input(\"Enter number value\")\n",
        "\n",
        "print(\"As int\", int(a))\n",
        "print(\"As float\", float(a))\n",
        "print(\"As bool\", bool(a))"
      ]
    },
    {
      "cell_type": "code",
      "execution_count": 30,
      "metadata": {
        "colab": {
          "base_uri": "https://localhost:8080/"
        },
        "id": "p3ANTk0H2unm",
        "outputId": "849f9086-3faf-4769-9379-24be335da83a"
      },
      "outputs": [
        {
          "name": "stdout",
          "output_type": "stream",
          "text": [
            "Int list: [1, 2, 3]\n",
            "Float list [1.0, 2.0, 3.0]\n"
          ]
        }
      ],
      "source": [
        "# Ans 10 :-\n",
        "a = [\"1\", \"2\", \"3\"]\n",
        "b = [int(x) for x in a]\n",
        "print(\"Int list:\", b)\n",
        "\n",
        "c = [float(x) for x in a]\n",
        "print(\"Float list\", c)"
      ]
    },
    {
      "cell_type": "code",
      "execution_count": 32,
      "metadata": {
        "colab": {
          "base_uri": "https://localhost:8080/"
        },
        "id": "Dmkclv6RAm3P",
        "outputId": "d26eaee3-d690-4386-a6bf-b97e9aada8bf"
      },
      "outputs": [
        {
          "name": "stdout",
          "output_type": "stream",
          "text": [
            "Enter number only: 33\n",
            "Positive\n"
          ]
        }
      ],
      "source": [
        "# Ans 11 :-\n",
        "a = float(input(\"Enter number only: \"))\n",
        "if a > 0:\n",
        "  print(\"Positive\")\n",
        "elif a < 0:\n",
        "  print(\"Negative\")\n",
        "else:\n",
        "  print(\"Zero\")"
      ]
    },
    {
      "cell_type": "code",
      "execution_count": 33,
      "metadata": {
        "colab": {
          "base_uri": "https://localhost:8080/"
        },
        "id": "h62ZhOSdCBAv",
        "outputId": "58db859f-12dd-4bf4-80c7-da50019624ed"
      },
      "outputs": [
        {
          "name": "stdout",
          "output_type": "stream",
          "text": [
            "1\n",
            "2\n",
            "3\n",
            "4\n",
            "5\n",
            "6\n",
            "7\n",
            "8\n",
            "9\n",
            "10\n"
          ]
        }
      ],
      "source": [
        "# Ans 12 :-\n",
        "for i in range (1, 11):\n",
        "  print(i)"
      ]
    },
    {
      "cell_type": "code",
      "execution_count": 42,
      "metadata": {
        "colab": {
          "base_uri": "https://localhost:8080/"
        },
        "id": "krxul0m-CewE",
        "outputId": "08ccbd74-42e3-490c-ddbc-f685271026b2"
      },
      "outputs": [
        {
          "name": "stdout",
          "output_type": "stream",
          "text": [
            "Sum 650\n"
          ]
        }
      ],
      "source": [
        "# Ans 13 :-\n",
        "A = 0\n",
        "for i in range(1, 51):\n",
        "  if i % 2 == 0:\n",
        "    A += i\n",
        "print(\"Sum\", A)"
      ]
    },
    {
      "cell_type": "code",
      "execution_count": null,
      "metadata": {
        "id": "xc-6wIVpD1xS"
      },
      "outputs": [],
      "source": [
        "# Ans 14 :-\n",
        "a = str(input(\"Enter a string: \"))\n",
        "b = \"\"\n",
        "c = len(a) - 1\n",
        "while c >= 0:\n",
        "  b += a[c]\n",
        "  i -= c\n",
        "print(\"Reversed string: \", b)"
      ]
    },
    {
      "cell_type": "code",
      "execution_count": 48,
      "metadata": {
        "colab": {
          "base_uri": "https://localhost:8080/"
        },
        "id": "btz7tUROHV5S",
        "outputId": "03e428a4-6de0-4732-be09-31c575356e6f"
      },
      "outputs": [
        {
          "name": "stdout",
          "output_type": "stream",
          "text": [
            "Enter number: 10\n",
            "3628800\n"
          ]
        }
      ],
      "source": [
        "# Ans 15 :-\n",
        "a = int(input(\"Enter number: \"))\n",
        "fact, i = 1, 1\n",
        "while i <= a:\n",
        "    fact *= i\n",
        "    i += 1\n",
        "print(fact)"
      ]
    }
  ],
  "metadata": {
    "colab": {
      "provenance": []
    },
    "kernelspec": {
      "display_name": "Python 3",
      "name": "python3"
    }
  },
  "nbformat": 4,
  "nbformat_minor": 0
}
